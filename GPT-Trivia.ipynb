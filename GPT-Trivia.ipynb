{
 "cells": [
  {
   "cell_type": "code",
   "execution_count": 179,
   "id": "53a78c1a",
   "metadata": {},
   "outputs": [
    {
     "name": "stdout",
     "output_type": "stream",
     "text": [
      "Enter Topic Here: tom brady\n",
      "loading |Questions Generated!\n"
     ]
    }
   ],
   "source": [
    "import itertools\n",
    "import threading\n",
    "import time\n",
    "import sys\n",
    "\n",
    "done = False\n",
    "#here is the animation\n",
    "def animate():\n",
    "    for c in itertools.cycle(['|', '/', '-', '\\\\']):\n",
    "        if done:\n",
    "            break\n",
    "        sys.stdout.write('\\rloading ' + c)\n",
    "        sys.stdout.flush()\n",
    "        time.sleep(0.1)\n",
    "    \n",
    "\n",
    "\n",
    "\n",
    "\n",
    "import openai\n",
    "openai.api_key = ''\n",
    "messages = [ {\"role\": \"system\", \"content\": \n",
    "              \"You are a intelligent assistant.\"} ]\n",
    "\n",
    "message = \"Write me 10 multiple choices about \" + input(\"Enter Topic Here: \") + \" with answers\"\n",
    "if message:\n",
    "    messages.append(\n",
    "        {\"role\": \"user\", \"content\": message},\n",
    "    )\n",
    "    t = threading.Thread(target=animate)\n",
    "    t.start()\n",
    "    chat = openai.ChatCompletion.create(\n",
    "        model=\"gpt-3.5-turbo\", messages=messages\n",
    "    )\n",
    "    done = True\n",
    "    \n",
    "print(\"Questions Generated!\")\n",
    "reply = chat.choices[0].message.content\n",
    "\n",
    "messages.append({\"role\": \"assistant\", \"content\": reply})"
   ]
  },
  {
   "cell_type": "code",
   "execution_count": 180,
   "id": "6de3da32",
   "metadata": {},
   "outputs": [],
   "source": [
    "x = reply.splitlines()"
   ]
  },
  {
   "cell_type": "code",
   "execution_count": 183,
   "id": "fe804047",
   "metadata": {},
   "outputs": [],
   "source": [
    "while not \"1. \" in x[0]:\n",
    "    del x[0]\n",
    "x.remove('')"
   ]
  },
  {
   "cell_type": "code",
   "execution_count": 184,
   "id": "8823f480",
   "metadata": {
    "scrolled": true
   },
   "outputs": [],
   "source": [
    "answers = []\n",
    "questions = []\n",
    "answerchoices = []\n",
    "cur_sers = []\n",
    "questions_input = 0\n",
    "\n",
    "for y in range(len(x)):\n",
    "    if x[y] == \"\":\n",
    "        questions_input = 0\n",
    "    elif \"Answer\" not in x[y]:\n",
    "        if questions_input == 0:\n",
    "            questions.append(x[y])\n",
    "            questions_input = 1\n",
    "        else:\n",
    "            cur_sers.append(x[y])\n",
    "    elif \"Answer\" in x[y]:\n",
    "        answerchoices.append(cur_sers)\n",
    "        questions_input = 0\n",
    "        cur_sers = []\n",
    "        answers.append(x[y].split(\"Answer: \")[1].split(\") \")[0])"
   ]
  },
  {
   "cell_type": "code",
   "execution_count": 185,
   "id": "837f45f8",
   "metadata": {},
   "outputs": [
    {
     "name": "stdout",
     "output_type": "stream",
     "text": [
      "1. How many Super Bowl championships has Tom Brady won?\n",
      "a) 4\n",
      "b) 6\n",
      "c) 7\n",
      "d) 9\n",
      "Enter Answer: c\n",
      "\n",
      "\n",
      " \n",
      "2. Which team did Tom Brady play for during the majority of his career?\n",
      "a) New England Patriots\n",
      "b) Dallas Cowboys\n",
      "c) San Francisco 49ers\n",
      "d) Green Bay Packers\n"
     ]
    },
    {
     "ename": "KeyboardInterrupt",
     "evalue": "Interrupted by user",
     "output_type": "error",
     "traceback": [
      "\u001b[0;31m---------------------------------------------------------------------------\u001b[0m",
      "\u001b[0;31mKeyboardInterrupt\u001b[0m                         Traceback (most recent call last)",
      "Input \u001b[0;32mIn [185]\u001b[0m, in \u001b[0;36m<cell line: 2>\u001b[0;34m()\u001b[0m\n\u001b[1;32m      4\u001b[0m \u001b[38;5;28;01mfor\u001b[39;00m choices \u001b[38;5;129;01min\u001b[39;00m answerchoices[question]:\n\u001b[1;32m      5\u001b[0m     \u001b[38;5;28mprint\u001b[39m(choices)\n\u001b[0;32m----> 6\u001b[0m ans \u001b[38;5;241m=\u001b[39m \u001b[38;5;28;43minput\u001b[39;49m\u001b[43m(\u001b[49m\u001b[38;5;124;43m\"\u001b[39;49m\u001b[38;5;124;43mEnter Answer: \u001b[39;49m\u001b[38;5;124;43m\"\u001b[39;49m\u001b[43m)\u001b[49m\n\u001b[1;32m      7\u001b[0m \u001b[38;5;28;01mif\u001b[39;00m ans \u001b[38;5;241m==\u001b[39m answers[question]:\n\u001b[1;32m      8\u001b[0m     score \u001b[38;5;241m+\u001b[39m\u001b[38;5;241m=\u001b[39m \u001b[38;5;241m1\u001b[39m\n",
      "File \u001b[0;32m~/opt/anaconda3/lib/python3.9/site-packages/ipykernel/kernelbase.py:1075\u001b[0m, in \u001b[0;36mKernel.raw_input\u001b[0;34m(self, prompt)\u001b[0m\n\u001b[1;32m   1071\u001b[0m \u001b[38;5;28;01mif\u001b[39;00m \u001b[38;5;129;01mnot\u001b[39;00m \u001b[38;5;28mself\u001b[39m\u001b[38;5;241m.\u001b[39m_allow_stdin:\n\u001b[1;32m   1072\u001b[0m     \u001b[38;5;28;01mraise\u001b[39;00m StdinNotImplementedError(\n\u001b[1;32m   1073\u001b[0m         \u001b[38;5;124m\"\u001b[39m\u001b[38;5;124mraw_input was called, but this frontend does not support input requests.\u001b[39m\u001b[38;5;124m\"\u001b[39m\n\u001b[1;32m   1074\u001b[0m     )\n\u001b[0;32m-> 1075\u001b[0m \u001b[38;5;28;01mreturn\u001b[39;00m \u001b[38;5;28;43mself\u001b[39;49m\u001b[38;5;241;43m.\u001b[39;49m\u001b[43m_input_request\u001b[49m\u001b[43m(\u001b[49m\n\u001b[1;32m   1076\u001b[0m \u001b[43m    \u001b[49m\u001b[38;5;28;43mstr\u001b[39;49m\u001b[43m(\u001b[49m\u001b[43mprompt\u001b[49m\u001b[43m)\u001b[49m\u001b[43m,\u001b[49m\n\u001b[1;32m   1077\u001b[0m \u001b[43m    \u001b[49m\u001b[38;5;28;43mself\u001b[39;49m\u001b[38;5;241;43m.\u001b[39;49m\u001b[43m_parent_ident\u001b[49m\u001b[43m[\u001b[49m\u001b[38;5;124;43m\"\u001b[39;49m\u001b[38;5;124;43mshell\u001b[39;49m\u001b[38;5;124;43m\"\u001b[39;49m\u001b[43m]\u001b[49m\u001b[43m,\u001b[49m\n\u001b[1;32m   1078\u001b[0m \u001b[43m    \u001b[49m\u001b[38;5;28;43mself\u001b[39;49m\u001b[38;5;241;43m.\u001b[39;49m\u001b[43mget_parent\u001b[49m\u001b[43m(\u001b[49m\u001b[38;5;124;43m\"\u001b[39;49m\u001b[38;5;124;43mshell\u001b[39;49m\u001b[38;5;124;43m\"\u001b[39;49m\u001b[43m)\u001b[49m\u001b[43m,\u001b[49m\n\u001b[1;32m   1079\u001b[0m \u001b[43m    \u001b[49m\u001b[43mpassword\u001b[49m\u001b[38;5;241;43m=\u001b[39;49m\u001b[38;5;28;43;01mFalse\u001b[39;49;00m\u001b[43m,\u001b[49m\n\u001b[1;32m   1080\u001b[0m \u001b[43m\u001b[49m\u001b[43m)\u001b[49m\n",
      "File \u001b[0;32m~/opt/anaconda3/lib/python3.9/site-packages/ipykernel/kernelbase.py:1120\u001b[0m, in \u001b[0;36mKernel._input_request\u001b[0;34m(self, prompt, ident, parent, password)\u001b[0m\n\u001b[1;32m   1117\u001b[0m             \u001b[38;5;28;01mbreak\u001b[39;00m\n\u001b[1;32m   1118\u001b[0m \u001b[38;5;28;01mexcept\u001b[39;00m \u001b[38;5;167;01mKeyboardInterrupt\u001b[39;00m:\n\u001b[1;32m   1119\u001b[0m     \u001b[38;5;66;03m# re-raise KeyboardInterrupt, to truncate traceback\u001b[39;00m\n\u001b[0;32m-> 1120\u001b[0m     \u001b[38;5;28;01mraise\u001b[39;00m \u001b[38;5;167;01mKeyboardInterrupt\u001b[39;00m(\u001b[38;5;124m\"\u001b[39m\u001b[38;5;124mInterrupted by user\u001b[39m\u001b[38;5;124m\"\u001b[39m) \u001b[38;5;28;01mfrom\u001b[39;00m \u001b[38;5;28mNone\u001b[39m\n\u001b[1;32m   1121\u001b[0m \u001b[38;5;28;01mexcept\u001b[39;00m \u001b[38;5;167;01mException\u001b[39;00m:\n\u001b[1;32m   1122\u001b[0m     \u001b[38;5;28mself\u001b[39m\u001b[38;5;241m.\u001b[39mlog\u001b[38;5;241m.\u001b[39mwarning(\u001b[38;5;124m\"\u001b[39m\u001b[38;5;124mInvalid Message:\u001b[39m\u001b[38;5;124m\"\u001b[39m, exc_info\u001b[38;5;241m=\u001b[39m\u001b[38;5;28;01mTrue\u001b[39;00m)\n",
      "\u001b[0;31mKeyboardInterrupt\u001b[0m: Interrupted by user"
     ]
    }
   ],
   "source": [
    "score = 0\n",
    "for question in range(len(questions)):\n",
    "    print(questions[question])\n",
    "    for choices in answerchoices[question]:\n",
    "        print(choices)\n",
    "    ans = input(\"Enter Answer: \")\n",
    "    if ans == answers[question]:\n",
    "        score += 1\n",
    "    print(\"\\n\")\n",
    "\n",
    "print(\"******************************\")\n",
    "print(\"Results:\")\n",
    "print(\"YOUR SCORE IS \" + str(score) + \"/10. Good Job!\")\n",
    "print(\"******************************\")"
   ]
  }
 ],
 "metadata": {
  "kernelspec": {
   "display_name": "Python 3 (ipykernel)",
   "language": "python",
   "name": "python3"
  },
  "language_info": {
   "codemirror_mode": {
    "name": "ipython",
    "version": 3
   },
   "file_extension": ".py",
   "mimetype": "text/x-python",
   "name": "python",
   "nbconvert_exporter": "python",
   "pygments_lexer": "ipython3",
   "version": "3.9.12"
  }
 },
 "nbformat": 4,
 "nbformat_minor": 5
}
